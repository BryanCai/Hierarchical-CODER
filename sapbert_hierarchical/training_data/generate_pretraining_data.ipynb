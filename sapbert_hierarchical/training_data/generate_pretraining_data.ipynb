{
 "cells": [
  {
   "cell_type": "code",
   "execution_count": 1,
   "metadata": {},
   "outputs": [],
   "source": [
    "from tqdm.auto import tqdm\n",
    "import itertools\n",
    "import random\n",
    "import csv\n",
    "from random import shuffle\n",
    "from collections import defaultdict\n",
    "import pandas as pd\n",
    "import re\n",
    "from pathlib import Path"
   ]
  },
  {
   "cell_type": "markdown",
   "metadata": {},
   "source": [
    "## load MRCONSO.RFF (and some basic preprocessing)"
   ]
  },
  {
   "cell_type": "code",
   "execution_count": 2,
   "metadata": {},
   "outputs": [],
   "source": [
    "UMLS_DIR = Path(\"C:/Users/bxcai/Downloads/umls-2021AB-metathesaurus/2021AB/META\")"
   ]
  },
  {
   "cell_type": "code",
   "execution_count": 3,
   "metadata": {},
   "outputs": [
    {
     "name": "stdout",
     "output_type": "stream",
     "text": [
      "16543671\n"
     ]
    }
   ],
   "source": [
    "with open(UMLS_DIR/\"MRCONSO.RRF\", \"r\", encoding=\"utf-8\") as f:\n",
    "    lines = f.readlines()\n",
    "print(len(lines))"
   ]
  },
  {
   "cell_type": "markdown",
   "metadata": {},
   "source": [
    "### use only English names"
   ]
  },
  {
   "cell_type": "code",
   "execution_count": 4,
   "metadata": {},
   "outputs": [
    {
     "data": {
      "application/vnd.jupyter.widget-view+json": {
       "model_id": "73afbe62b514442cb69af816f7aea662",
       "version_major": 2,
       "version_minor": 0
      },
      "text/plain": [
       "HBox(children=(FloatProgress(value=0.0, max=16543671.0), HTML(value='')))"
      ]
     },
     "metadata": {},
     "output_type": "display_data"
    },
    {
     "name": "stdout",
     "output_type": "stream",
     "text": [
      "\n",
      "11755677\n"
     ]
    }
   ],
   "source": [
    "cleaned = []\n",
    "count = 0\n",
    "for l in tqdm(lines):\n",
    "    lst = l.rstrip(\"\\n\").split(\"|\")\n",
    "    cui, lang, synonym = lst[0], lst[1], lst[14]\n",
    "    if lang != \"ENG\": continue # comment this out if you need all languages\n",
    "    row = cui+\"||\"+synonym.lower()\n",
    "    cleaned.append(row)\n",
    "print(len(cleaned))"
   ]
  },
  {
   "cell_type": "code",
   "execution_count": 5,
   "metadata": {},
   "outputs": [
    {
     "name": "stdout",
     "output_type": "stream",
     "text": [
      "11755677\n",
      "9580357\n"
     ]
    }
   ],
   "source": [
    "print(len(cleaned))\n",
    "cleaned = list(set(cleaned)) \n",
    "print(len(cleaned))"
   ]
  },
  {
   "cell_type": "markdown",
   "metadata": {},
   "source": [
    "## add tradeneames (optional) "
   ]
  },
  {
   "cell_type": "markdown",
   "metadata": {},
   "source": [
    "Regard drug tradenames/brandnames from the relation file as synonym relations. This slightly boosts SapBERT's performance on some biomedical entity linking datasets (e.g. COMETA). MRREL.RRF can be extracted from the full UMLS release file: https://www.nlm.nih.gov/research/umls/licensedcontent/umlsarchives04.html#2020AA."
   ]
  },
  {
   "cell_type": "code",
   "execution_count": 6,
   "metadata": {},
   "outputs": [
    {
     "name": "stdout",
     "output_type": "stream",
     "text": [
      "54660298\n"
     ]
    }
   ],
   "source": [
    "# load MRCONSO.RFF\n",
    "with open(UMLS_DIR/\"MRREL.RRF\", \"r\", encoding=\"utf-8\") as f:\n",
    "    lines = f.readlines()\n",
    "print(len(lines))"
   ]
  },
  {
   "cell_type": "code",
   "execution_count": 7,
   "metadata": {},
   "outputs": [
    {
     "data": {
      "application/vnd.jupyter.widget-view+json": {
       "model_id": "bf0a4d6b903f4ec1be6c541d8b2e750c",
       "version_major": 2,
       "version_minor": 0
      },
      "text/plain": [
       "HBox(children=(FloatProgress(value=0.0, max=9580357.0), HTML(value='')))"
      ]
     },
     "metadata": {},
     "output_type": "display_data"
    },
    {
     "name": "stdout",
     "output_type": "stream",
     "text": [
      "\n"
     ]
    }
   ],
   "source": [
    "umls_dict = {} # constrauct cui to list of name dict\n",
    "for line in tqdm(cleaned):\n",
    "    cui, name = line.split(\"||\")\n",
    "    if cui in umls_dict:\n",
    "        umls_dict[cui].append(name)\n",
    "    else:\n",
    "        umls_dict[cui] = [name]"
   ]
  },
  {
   "cell_type": "code",
   "execution_count": 8,
   "metadata": {},
   "outputs": [
    {
     "data": {
      "application/vnd.jupyter.widget-view+json": {
       "model_id": "250e5a3a241c447eaeb50910d6297c0a",
       "version_major": 2,
       "version_minor": 0
      },
      "text/plain": [
       "HBox(children=(FloatProgress(value=0.0, max=54660298.0), HTML(value='')))"
      ]
     },
     "metadata": {},
     "output_type": "display_data"
    },
    {
     "name": "stdout",
     "output_type": "stream",
     "text": [
      "\n",
      "131088\n"
     ]
    }
   ],
   "source": [
    "tradename_mappings = {}\n",
    "for l in tqdm(lines):\n",
    "    if \"has_tradename\" in l or \"tradename_of\" in l:\n",
    "        cells =l.split(\"|\")\n",
    "        head, tail = cells[0], cells[4]\n",
    "        try: # if in CUI\n",
    "            sfs = umls_dict[tail]\n",
    "            tradename_mappings[head] = sfs\n",
    "        except:\n",
    "            continue\n",
    "print(len(tradename_mappings))"
   ]
  },
  {
   "cell_type": "code",
   "execution_count": 9,
   "metadata": {
    "scrolled": true
   },
   "outputs": [
    {
     "name": "stdout",
     "output_type": "stream",
     "text": [
      "9580357\n",
      "10542116\n"
     ]
    }
   ],
   "source": [
    "# add tradenames\n",
    "print(len(cleaned))\n",
    "for cui,synonyms in tradename_mappings.items():\n",
    "    for s in synonyms:\n",
    "        row = cui+\"||\"+ s.lower()\n",
    "        cleaned.append(row)\n",
    "print(len(cleaned))"
   ]
  },
  {
   "cell_type": "markdown",
   "metadata": {},
   "source": [
    "### remove duplications, again"
   ]
  },
  {
   "cell_type": "code",
   "execution_count": 10,
   "metadata": {},
   "outputs": [
    {
     "name": "stdout",
     "output_type": "stream",
     "text": [
      "10542116\n",
      "10541661\n"
     ]
    }
   ],
   "source": [
    "print(len(cleaned))\n",
    "cleaned_do_dup = list(set(cleaned))\n",
    "print(len(list(set(cleaned_do_dup))))"
   ]
  },
  {
   "cell_type": "markdown",
   "metadata": {},
   "source": [
    "## positive pairs generation"
   ]
  },
  {
   "cell_type": "code",
   "execution_count": 11,
   "metadata": {},
   "outputs": [
    {
     "data": {
      "application/vnd.jupyter.widget-view+json": {
       "model_id": "1024583068b646f191590dfef0efd2ac",
       "version_major": 2,
       "version_minor": 0
      },
      "text/plain": [
       "HBox(children=(FloatProgress(value=0.0, max=10541661.0), HTML(value='')))"
      ]
     },
     "metadata": {},
     "output_type": "display_data"
    },
    {
     "name": "stdout",
     "output_type": "stream",
     "text": [
      "\n"
     ]
    }
   ],
   "source": [
    "umls_dict = {} # constrauct cui to list of name dict, again\n",
    "for line in tqdm(cleaned_do_dup):\n",
    "    cui, name = line.split(\"||\")\n",
    "    if cui in umls_dict:\n",
    "        umls_dict[cui].append(name)\n",
    "    else:\n",
    "        umls_dict[cui] = [name]"
   ]
  },
  {
   "cell_type": "markdown",
   "metadata": {},
   "source": []
  },
  {
   "cell_type": "markdown",
   "metadata": {},
   "source": [
    "## Load Trees"
   ]
  },
  {
   "cell_type": "code",
   "execution_count": 12,
   "metadata": {},
   "outputs": [],
   "source": [
    "class TREE(object):\n",
    "    def __init__(self, tree_path, map_path):\n",
    "        self.tree_path = tree_path\n",
    "        self.map_path = map_path\n",
    "        self.load()\n",
    "    \n",
    "    def clean(self, term, lower=True, clean_NOS=True, clean_bracket=True, clean_dash=True):\n",
    "        term = \" \" + term + \" \"\n",
    "        if lower:\n",
    "            term = term.lower()\n",
    "        if clean_NOS:\n",
    "            term = term.replace(\" NOS \", \" \").replace(\" nos \", \" \")\n",
    "        if clean_bracket:\n",
    "            term = re.sub(u\"\\\\(.*?\\\\)\", \"\", term)\n",
    "        if clean_dash:\n",
    "            term = term.replace(\"-\", \" \")\n",
    "        term = \" \".join([w for w in term.split() if w])\n",
    "        return term\n",
    "\n",
    "    def load(self):\n",
    "        self.parent = {}\n",
    "        self.children = defaultdict(set)\n",
    "        self.grandchildren = defaultdict(set)\n",
    "        self.text = defaultdict(set)\n",
    "        with open(self.tree_path) as f:\n",
    "            reader = csv.reader(f)\n",
    "            reader.__next__()\n",
    "            for row in reader:\n",
    "                parent = row[0]\n",
    "                current = row[1]\n",
    "                if len(parent) > 0 and len(current) > 0:\n",
    "                    self.parent[current] = parent\n",
    "                    self.children[parent].add(current)\n",
    "\n",
    "        with open(self.map_path) as f:\n",
    "            reader = csv.reader(f)\n",
    "            reader.__next__()\n",
    "            for row in reader:\n",
    "                current = row[0]\n",
    "                text = row[1]\n",
    "                self.text[current].add(self.clean(text))\n",
    "\n",
    "        for current in list(self.children):\n",
    "            for child in self.children[current]:\n",
    "                self.grandchildren[current] = self.grandchildren[current].union(self.children[child])\n",
    "\n",
    "        self.text = self.clean_set_dict(self.text)\n",
    "\n",
    "    def clean_set_dict(self, d):\n",
    "        out = {}\n",
    "        for i in d:\n",
    "            if len(d[i]) > 0:\n",
    "                out[i] = tuple(d[i])\n",
    "        return out\n",
    "\n",
    "\n",
    "    def __len__(self):\n",
    "        return len(self.text)"
   ]
  },
  {
   "cell_type": "code",
   "execution_count": 13,
   "metadata": {},
   "outputs": [
    {
     "name": "stdout",
     "output_type": "stream",
     "text": [
      "cpt\n",
      "loinc\n",
      "phecode\n",
      "rxnorm\n"
     ]
    }
   ],
   "source": [
    "TREE_DIR = Path(\"D:/Projects/CODER/Hierarchical-CODER/data/cleaned/all\")\n",
    "\n",
    "TREE_SUBDIRS = [f for f in TREE_DIR.iterdir() if f.is_dir()]\n",
    "trees = {}\n",
    "for tree_subdir in TREE_SUBDIRS:\n",
    "    print(tree_subdir.name)\n",
    "    trees[tree_subdir.name] = TREE(tree_subdir/\"hierarchy.csv\", tree_subdir/\"code2string.csv\")"
   ]
  },
  {
   "cell_type": "markdown",
   "metadata": {},
   "source": [
    "## Sample eval dataset"
   ]
  },
  {
   "cell_type": "code",
   "execution_count": 14,
   "metadata": {},
   "outputs": [],
   "source": [
    "# with open('./phecode_holdout_set.txt', 'w') as f:\n",
    "#     for code in random.sample(list(set([i.split(\".\")[0] for i in trees[\"phecode\"].text.keys()])), 100):\n",
    "#         f.write(\"%s\\n\" % code)"
   ]
  },
  {
   "cell_type": "code",
   "execution_count": 15,
   "metadata": {},
   "outputs": [],
   "source": [
    "# EVAL_DIR = Path(\"D:/Projects/CODER/deps\")\n",
    "# with open(EVAL_DIR/\"COMPREHENSIVE_CUI_CUI_PAIRS_UMLS2021AB.csv\", \"r\", encoding=\"utf-8\") as f:\n",
    "#     lines = f.readlines()\n",
    "# print(len(lines))\n",
    "\n",
    "# with open('./cui_cui_holdout_set.txt', 'w') as f:\n",
    "#     for line in random.sample(lines[1:], 200000):\n",
    "#         f.write(\"%s\" % line)"
   ]
  },
  {
   "cell_type": "markdown",
   "metadata": {},
   "source": [
    "## load eval data"
   ]
  },
  {
   "cell_type": "code",
   "execution_count": 16,
   "metadata": {},
   "outputs": [
    {
     "name": "stdout",
     "output_type": "stream",
     "text": [
      "200000\n"
     ]
    }
   ],
   "source": [
    "with open(\"./cui_cui_holdout_set.txt\", \"r\", encoding=\"utf-8\") as f:\n",
    "    lines = f.readlines()\n",
    "print(len(lines))"
   ]
  },
  {
   "cell_type": "code",
   "execution_count": 17,
   "metadata": {},
   "outputs": [
    {
     "data": {
      "application/vnd.jupyter.widget-view+json": {
       "model_id": "2ede4d2f77414382a616e808dec14407",
       "version_major": 2,
       "version_minor": 0
      },
      "text/plain": [
       "HBox(children=(FloatProgress(value=0.0, max=200000.0), HTML(value='')))"
      ]
     },
     "metadata": {},
     "output_type": "display_data"
    },
    {
     "name": "stdout",
     "output_type": "stream",
     "text": [
      "\n",
      "400000\n"
     ]
    }
   ],
   "source": [
    "eval_cuis = []\n",
    "eval_tree_codes = []\n",
    "for l in tqdm(lines):\n",
    "    lst = l.rstrip(\"\\n\").split(\",\")\n",
    "    eval_cuis.append(lst[0])\n",
    "    eval_cuis.append(lst[2])\n",
    "print(len(eval_cuis))"
   ]
  },
  {
   "cell_type": "code",
   "execution_count": 18,
   "metadata": {},
   "outputs": [
    {
     "name": "stdout",
     "output_type": "stream",
     "text": [
      "10723\n"
     ]
    }
   ],
   "source": [
    "EVAL_DIR = Path(\"D:/Projects/CODER/deps\")\n",
    "with open(EVAL_DIR/\"DDX_Medscape_UMLS2021ABCUIS_vid_01APR2023.csv\", \"r\", encoding=\"utf-8\") as f:\n",
    "    lines = f.readlines()\n",
    "print(len(lines))"
   ]
  },
  {
   "cell_type": "code",
   "execution_count": 19,
   "metadata": {},
   "outputs": [],
   "source": [
    "for l in lines[1:]:\n",
    "    lst = l.rstrip(\"\\n\").split(\",\")\n",
    "    eval_cuis.append(lst[2])\n",
    "    eval_cuis.append(lst[3])"
   ]
  },
  {
   "cell_type": "code",
   "execution_count": 20,
   "metadata": {},
   "outputs": [
    {
     "name": "stdout",
     "output_type": "stream",
     "text": [
      "421444\n",
      "216877\n"
     ]
    }
   ],
   "source": [
    "print(len(eval_cuis))\n",
    "eval_cuis = list(set(eval_cuis)) \n",
    "print(len(eval_cuis))"
   ]
  },
  {
   "cell_type": "code",
   "execution_count": 21,
   "metadata": {},
   "outputs": [],
   "source": [
    "eval_terms = []\n",
    "for i in eval_cuis:\n",
    "    if i in umls_dict:\n",
    "        eval_terms += umls_dict[i]"
   ]
  },
  {
   "cell_type": "code",
   "execution_count": 22,
   "metadata": {},
   "outputs": [
    {
     "name": "stdout",
     "output_type": "stream",
     "text": [
      "1278400\n",
      "1165731\n"
     ]
    }
   ],
   "source": [
    "print(len(eval_terms))\n",
    "eval_terms = list(set(eval_terms)) \n",
    "print(len(eval_terms))"
   ]
  },
  {
   "cell_type": "code",
   "execution_count": 23,
   "metadata": {},
   "outputs": [
    {
     "name": "stdout",
     "output_type": "stream",
     "text": [
      "100\n"
     ]
    }
   ],
   "source": [
    "EVAL_DIR = Path(\"D:/Projects/CODER/Hierarchical-CODER/sapbert_hierarchical/training_data\")\n",
    "with open(EVAL_DIR/\"phecode_holdout_set.txt\", \"r\", encoding=\"utf-8\") as f:\n",
    "    lines = f.readlines()\n",
    "print(len(lines))"
   ]
  },
  {
   "cell_type": "code",
   "execution_count": 24,
   "metadata": {},
   "outputs": [
    {
     "data": {
      "application/vnd.jupyter.widget-view+json": {
       "model_id": "92d018cdd86649358eed358bcdfefaa9",
       "version_major": 2,
       "version_minor": 0
      },
      "text/plain": [
       "HBox(children=(FloatProgress(value=0.0), HTML(value='')))"
      ]
     },
     "metadata": {},
     "output_type": "display_data"
    },
    {
     "name": "stdout",
     "output_type": "stream",
     "text": [
      "\n",
      "100\n"
     ]
    }
   ],
   "source": [
    "eval_phecodes = []\n",
    "for l in tqdm(lines):\n",
    "    lst = l.rstrip(\"\\n\")\n",
    "    eval_phecodes.append(lst)\n",
    "print(len(eval_phecodes))"
   ]
  },
  {
   "cell_type": "markdown",
   "metadata": {},
   "source": [
    "## Filter Data"
   ]
  },
  {
   "cell_type": "code",
   "execution_count": 25,
   "metadata": {},
   "outputs": [
    {
     "name": "stdout",
     "output_type": "stream",
     "text": [
      "4536277\n",
      "cpt 14056\n",
      "loinc 171191\n",
      "phecode 1828\n",
      "rxnorm 192683\n"
     ]
    }
   ],
   "source": [
    "print(len(umls_dict))\n",
    "for tree in trees:\n",
    "    print(tree, len(trees[tree].text))"
   ]
  },
  {
   "cell_type": "code",
   "execution_count": 26,
   "metadata": {},
   "outputs": [],
   "source": [
    "for i in eval_cuis:\n",
    "    if i in umls_dict:\n",
    "        del umls_dict[i]\n",
    "\n",
    "all_eval_phecodes = []\n",
    "for phecode in trees[\"phecode\"].text:\n",
    "    if phecode.split(\".\")[0] in eval_phecodes:\n",
    "        all_eval_phecodes.append(phecode)\n",
    "        \n",
    "for phecode in all_eval_phecodes:\n",
    "    if phecode in trees[\"phecode\"].text:\n",
    "        del trees[\"phecode\"].text[phecode]"
   ]
  },
  {
   "cell_type": "code",
   "execution_count": 27,
   "metadata": {},
   "outputs": [
    {
     "name": "stdout",
     "output_type": "stream",
     "text": [
      "4319404\n",
      "cpt 14056\n",
      "loinc 171191\n",
      "phecode 1506\n",
      "rxnorm 192683\n"
     ]
    }
   ],
   "source": [
    "print(len(umls_dict))\n",
    "for tree in trees:\n",
    "    print(tree, len(trees[tree].text))"
   ]
  },
  {
   "cell_type": "markdown",
   "metadata": {},
   "source": [
    "### generate!"
   ]
  },
  {
   "cell_type": "code",
   "execution_count": 28,
   "metadata": {},
   "outputs": [],
   "source": [
    "def gen_pairs(input_list):\n",
    "    return list(itertools.combinations(input_list, r=2))"
   ]
  },
  {
   "cell_type": "code",
   "execution_count": 29,
   "metadata": {},
   "outputs": [
    {
     "data": {
      "application/vnd.jupyter.widget-view+json": {
       "model_id": "25e692a6f9464db0993ff8fe1fa04674",
       "version_major": 2,
       "version_minor": 0
      },
      "text/plain": [
       "HBox(children=(FloatProgress(value=0.0, max=4319404.0), HTML(value='')))"
      ]
     },
     "metadata": {},
     "output_type": "display_data"
    },
    {
     "name": "stdout",
     "output_type": "stream",
     "text": [
      "\n"
     ]
    }
   ],
   "source": [
    "pos_pairs = []\n",
    "for k,v in tqdm(umls_dict.items()):\n",
    "    pairs = gen_pairs(v)\n",
    "    if len(pairs)>50: # if >50 pairs, then trim to 50 pairs\n",
    "        pairs = random.sample(pairs, 50)\n",
    "    for p in pairs:\n",
    "        line = str(k) + \"||\" + p[0] + \"||\" + p[1]\n",
    "        pos_pairs.append(line)"
   ]
  },
  {
   "cell_type": "code",
   "execution_count": 30,
   "metadata": {},
   "outputs": [
    {
     "name": "stdout",
     "output_type": "stream",
     "text": [
      "10539693\n"
     ]
    }
   ],
   "source": [
    "print(len(pos_pairs))"
   ]
  },
  {
   "cell_type": "code",
   "execution_count": 31,
   "metadata": {},
   "outputs": [
    {
     "data": {
      "text/plain": [
       "['C4109392||eulecanium giganteum||eulecanium giganteum (shinji, 1935)',\n",
       " 'C2733947||r cont lens or cylinder||over refraction cylinder:invlen:pt:contact lens.right:qn',\n",
       " 'C2733947||r cont lens or cylinder||right contact lens over refraction cylinder']"
      ]
     },
     "execution_count": 31,
     "metadata": {},
     "output_type": "execute_result"
    }
   ],
   "source": [
    "pos_pairs[:3]"
   ]
  },
  {
   "cell_type": "markdown",
   "metadata": {},
   "source": [
    "### save the pairwise positive training file"
   ]
  },
  {
   "cell_type": "code",
   "execution_count": 32,
   "metadata": {},
   "outputs": [],
   "source": [
    "# with open('./training_files/umls.txt', 'w', encoding=\"utf-8\") as f:\n",
    "#     for line in pos_pairs:\n",
    "#         f.write(\"%s\\n\" % line)"
   ]
  },
  {
   "cell_type": "markdown",
   "metadata": {},
   "source": [
    "## Generate RELA Data"
   ]
  },
  {
   "cell_type": "code",
   "execution_count": 33,
   "metadata": {},
   "outputs": [
    {
     "name": "stdout",
     "output_type": "stream",
     "text": [
      "54660298\n"
     ]
    }
   ],
   "source": [
    "# load MRCONSO.RFF\n",
    "with open(UMLS_DIR/\"MRREL.RRF\", \"r\", encoding=\"utf-8\") as f:\n",
    "    lines = f.readlines()\n",
    "print(len(lines))"
   ]
  },
  {
   "cell_type": "code",
   "execution_count": 34,
   "metadata": {},
   "outputs": [
    {
     "data": {
      "application/vnd.jupyter.widget-view+json": {
       "model_id": "d87cb9c9abb546b0a03058528618687c",
       "version_major": 2,
       "version_minor": 0
      },
      "text/plain": [
       "HBox(children=(FloatProgress(value=0.0, max=54660298.0), HTML(value='')))"
      ]
     },
     "metadata": {},
     "output_type": "display_data"
    },
    {
     "name": "stdout",
     "output_type": "stream",
     "text": [
      "\n"
     ]
    }
   ],
   "source": [
    "rela_dict = {}\n",
    "for line in tqdm(lines):\n",
    "    lst = line.split(\"|\")\n",
    "    cui1, rel, cui2, rela = lst[0], lst[3], lst[4], lst[7]\n",
    "    if rela in rela_dict:\n",
    "        rela_dict[rela].append((cui1, cui2))\n",
    "    else:\n",
    "        rela_dict[rela] = [(cui1, cui2)]"
   ]
  },
  {
   "cell_type": "code",
   "execution_count": 35,
   "metadata": {},
   "outputs": [],
   "source": [
    "for i in rela_dict:\n",
    "    if len(rela_dict[i]) > 1e5:\n",
    "        rela_dict[i] = random.sample(rela_dict[i], int(1e5))"
   ]
  },
  {
   "cell_type": "code",
   "execution_count": 36,
   "metadata": {},
   "outputs": [
    {
     "data": {
      "application/vnd.jupyter.widget-view+json": {
       "model_id": "97c9a075c6cb4473b22724df8b27ad92",
       "version_major": 2,
       "version_minor": 0
      },
      "text/plain": [
       "HBox(children=(FloatProgress(value=0.0, max=13456496.0), HTML(value='')))"
      ]
     },
     "metadata": {},
     "output_type": "display_data"
    },
    {
     "name": "stdout",
     "output_type": "stream",
     "text": [
      "\n"
     ]
    }
   ],
   "source": [
    "rela_list = [item for i in rela_dict for item in rela_dict[i]]\n",
    "rela_pairs = []\n",
    "for cui1, cui2 in tqdm(rela_list):\n",
    "    if cui1 in umls_dict and cui2 in umls_dict:\n",
    "        pairs = list(itertools.product(umls_dict[cui1], umls_dict[cui2]))\n",
    "        if len(pairs)>5:\n",
    "            pairs = random.sample(pairs, 5)\n",
    "        for p in pairs:\n",
    "            line = min(cui1, cui2) + max(cui1, cui2) + \"||\" + p[0] + \"||\" + p[1]\n",
    "            rela_pairs.append(line)"
   ]
  },
  {
   "cell_type": "code",
   "execution_count": 38,
   "metadata": {},
   "outputs": [
    {
     "name": "stdout",
     "output_type": "stream",
     "text": [
      "14881187\n"
     ]
    }
   ],
   "source": [
    "print(len(rela_pairs))"
   ]
  },
  {
   "cell_type": "code",
   "execution_count": 37,
   "metadata": {},
   "outputs": [],
   "source": [
    "# with open('./training_files/umls_rela.txt', 'w', encoding=\"utf-8\") as f:\n",
    "#     for line in rela_pairs:\n",
    "#         f.write(\"%s\\n\" % line)"
   ]
  },
  {
   "cell_type": "markdown",
   "metadata": {},
   "source": [
    "## Generate Tree Data"
   ]
  },
  {
   "cell_type": "code",
   "execution_count": 31,
   "metadata": {},
   "outputs": [],
   "source": [
    "obj_list = []\n",
    "obj_len = 0\n",
    "for tree in trees:\n",
    "    if tree == 'phecode':\n",
    "        obj_list += [(i, tree) for i in trees[tree].text.keys()] * 70\n",
    "        obj_len += len(trees[tree]) * 100\n",
    "    elif tree == 'cpt':\n",
    "        obj_list += [(i, tree) for i in trees[tree].text.keys()] * 10\n",
    "        obj_len += len(trees[tree]) * 15\n",
    "    else:\n",
    "        obj_list += [(i, tree) for i in trees[tree].text.keys()]\n",
    "        obj_len += len(trees[tree])"
   ]
  },
  {
   "cell_type": "code",
   "execution_count": 34,
   "metadata": {},
   "outputs": [
    {
     "data": {
      "application/vnd.jupyter.widget-view+json": {
       "model_id": "6e8296b6011e489387a1fc8f327509d8",
       "version_major": 2,
       "version_minor": 0
      },
      "text/plain": [
       "HBox(children=(FloatProgress(value=0.0, max=609854.0), HTML(value='')))"
      ]
     },
     "metadata": {},
     "output_type": "display_data"
    },
    {
     "name": "stdout",
     "output_type": "stream",
     "text": [
      "\n"
     ]
    }
   ],
   "source": [
    "MAX_SAMPLES = 5\n",
    "\n",
    "tree_pairs = {}\n",
    "tree_terms = {}\n",
    "for tree in trees:\n",
    "    tree_pairs[tree] = []\n",
    "    tree_terms[tree] = [i for j in list(trees[tree].text.values()) for i in j]\n",
    "\n",
    "\n",
    "for anchor_id, tree in tqdm(obj_list):\n",
    "\n",
    "    if anchor_id not in trees[tree].text:\n",
    "        continue\n",
    "\n",
    "\n",
    "\n",
    "    samples = {}\n",
    "    samples_text = {}\n",
    "    for i in range(3):\n",
    "        samples[i] = []\n",
    "        samples_text[i] = []\n",
    "    \n",
    "    \n",
    "\n",
    "    if tree == 'phecode':\n",
    "        if \".\" not in anchor_id:\n",
    "            level = 3\n",
    "        else:\n",
    "            level = 3 - len(anchor_id.split(\".\")[1])\n",
    "            \n",
    "        samples[level - 1] += [i for i in trees[tree].children[anchor_id]]\n",
    "        \n",
    "        if anchor_id in trees[tree].parent:\n",
    "            parent = trees[tree].parent[anchor_id]\n",
    "            samples[level] += [parent]\n",
    "            samples[level] += [i for i in trees[tree].children[parent] if i != anchor_id]\n",
    "        \n",
    "    else:\n",
    "        samples[1] += [i for i in trees[tree].children[anchor_id]]\n",
    "        if anchor_id in trees[tree].parent:\n",
    "            parent = trees[tree].parent[anchor_id]\n",
    "            samples[2] += [parent]\n",
    "            samples[1] += [i for i in trees[tree].children[parent] if i != anchor_id]\n",
    "\n",
    "    samples[0] += [anchor_id]\n",
    "    assert len(samples[0]) == 1\n",
    "\n",
    "    \n",
    "    for i in range(3):\n",
    "        for j in samples[i]:\n",
    "            if j in trees[tree].text:\n",
    "                samples_text[i] += trees[tree].text[j]\n",
    "\n",
    "    \n",
    "    for i in samples_text:\n",
    "        if len(samples_text[i]) > 2*MAX_SAMPLES:\n",
    "            samples_text[i] = random.sample(samples_text[i], 2*MAX_SAMPLES)\n",
    "                \n",
    "    \n",
    "    pairs = list(itertools.combinations(samples_text[0], 2))\n",
    "    if len(pairs) > MAX_SAMPLES:\n",
    "        pairs = random.sample(pairs, MAX_SAMPLES)\n",
    "    for p in pairs:\n",
    "        line = str(0) + \"||\" + p[0] + \"||\" + p[1]\n",
    "        tree_pairs[tree].append(line)    \n",
    "    \n",
    "    \n",
    "    for i in range(1, 3):\n",
    "        pairs = list(itertools.product(samples_text[0], samples_text[i]))\n",
    "        if len(pairs) > MAX_SAMPLES:\n",
    "            pairs = random.sample(pairs, MAX_SAMPLES)\n",
    "        for p in pairs:\n",
    "            line = str(i) + \"||\" + p[0] + \"||\" + p[1]\n",
    "            tree_pairs[tree].append(line)    \n",
    "\n",
    "            \n",
    "    random_samples = random.sample(tree_terms[tree], 2*MAX_SAMPLES)\n",
    "    pairs = list(itertools.product(samples_text[0], random_samples))\n",
    "    if len(pairs) > MAX_SAMPLES:\n",
    "        pairs = random.sample(pairs, MAX_SAMPLES)\n",
    "    for p in pairs:\n",
    "        line = str(3) + \"||\" + p[0] + \"||\" + p[1]\n",
    "        tree_pairs[tree].append(line)\n",
    "        "
   ]
  },
  {
   "cell_type": "code",
   "execution_count": 32,
   "metadata": {},
   "outputs": [
    {
     "name": "stdout",
     "output_type": "stream",
     "text": [
      "cpt 1219150\n",
      "loinc 1540454\n",
      "phecode 1607130\n",
      "rxnorm 1860910\n"
     ]
    }
   ],
   "source": [
    "for tree in tree_pairs:\n",
    "        print(tree, len(tree_pairs[tree]))"
   ]
  },
  {
   "cell_type": "code",
   "execution_count": 30,
   "metadata": {},
   "outputs": [
    {
     "name": "stdout",
     "output_type": "stream",
     "text": [
      "cpt 4751900\n",
      "loinc 4948254\n",
      "phecode 5924240\n",
      "rxnorm 5771353\n"
     ]
    }
   ],
   "source": [
    "for tree in tree_pairs:\n",
    "        print(tree, len(tree_pairs[tree]))"
   ]
  },
  {
   "cell_type": "code",
   "execution_count": 36,
   "metadata": {},
   "outputs": [
    {
     "name": "stdout",
     "output_type": "stream",
     "text": [
      "cpt 1219150\n",
      "loinc 1540454\n",
      "phecode 1394890\n",
      "rxnorm 1860910\n"
     ]
    }
   ],
   "source": [
    "for tree in tree_pairs:\n",
    "    with open('./training_files/' + tree + '.txt', 'w', encoding=\"utf-8\") as f:\n",
    "        for line in tree_pairs[tree]:\n",
    "            f.write(\"%s\\n\" % line)\n",
    "        print(tree, len(tree_pairs[tree]))"
   ]
  },
  {
   "cell_type": "code",
   "execution_count": null,
   "metadata": {},
   "outputs": [],
   "source": []
  },
  {
   "cell_type": "code",
   "execution_count": null,
   "metadata": {},
   "outputs": [],
   "source": []
  },
  {
   "cell_type": "markdown",
   "metadata": {},
   "source": [
    "## Generate Phecode eval terms "
   ]
  },
  {
   "cell_type": "code",
   "execution_count": 37,
   "metadata": {},
   "outputs": [
    {
     "name": "stdout",
     "output_type": "stream",
     "text": [
      "cpt\n",
      "loinc\n",
      "phecode\n",
      "rxnorm\n"
     ]
    }
   ],
   "source": [
    "TREE_DIR = Path(\"D:/Projects/CODER/Hierarchical-CODER/data/cleaned/all\")\n",
    "\n",
    "TREE_SUBDIRS = [f for f in TREE_DIR.iterdir() if f.is_dir()]\n",
    "trees = {}\n",
    "for tree_subdir in TREE_SUBDIRS:\n",
    "    print(tree_subdir.name)\n",
    "    trees[tree_subdir.name] = TREE(tree_subdir/\"hierarchy.csv\", tree_subdir/\"code2string.csv\")"
   ]
  },
  {
   "cell_type": "code",
   "execution_count": 38,
   "metadata": {},
   "outputs": [
    {
     "name": "stdout",
     "output_type": "stream",
     "text": [
      "100\n"
     ]
    }
   ],
   "source": [
    "with open('./phecode_holdout_set.txt', 'r') as f:\n",
    "    lines = f.readlines()\n",
    "print(len(lines))"
   ]
  },
  {
   "cell_type": "code",
   "execution_count": 39,
   "metadata": {},
   "outputs": [
    {
     "data": {
      "application/vnd.jupyter.widget-view+json": {
       "model_id": "9f82eb2a531b43cab09f6bf714b8f83e",
       "version_major": 2,
       "version_minor": 0
      },
      "text/plain": [
       "HBox(children=(FloatProgress(value=0.0), HTML(value='')))"
      ]
     },
     "metadata": {},
     "output_type": "display_data"
    },
    {
     "name": "stdout",
     "output_type": "stream",
     "text": [
      "\n",
      "322\n"
     ]
    }
   ],
   "source": [
    "eval_tree_codes = []\n",
    "for l in tqdm(lines):\n",
    "    lst = l.rstrip(\"\\n\").split(\",\")\n",
    "    eval_tree_codes.append(lst[0])\n",
    "\n",
    "all_eval_phecodes = []\n",
    "all_eval_phecodes_text = {}\n",
    "for phecode in trees[\"phecode\"].text:\n",
    "    if phecode.split(\".\")[0] in eval_phecodes:\n",
    "        all_eval_phecodes.append(phecode)\n",
    "        all_eval_phecodes_text[phecode] = trees[\"phecode\"].text[phecode]\n",
    "\n",
    "print(len(all_eval_phecodes))\n",
    "\n",
    "\n"
   ]
  },
  {
   "cell_type": "code",
   "execution_count": 40,
   "metadata": {},
   "outputs": [
    {
     "data": {
      "application/vnd.jupyter.widget-view+json": {
       "model_id": "af3f353c2b904157ac23396f24d88122",
       "version_major": 2,
       "version_minor": 0
      },
      "text/plain": [
       "HBox(children=(FloatProgress(value=0.0, max=322.0), HTML(value='')))"
      ]
     },
     "metadata": {},
     "output_type": "display_data"
    },
    {
     "name": "stdout",
     "output_type": "stream",
     "text": [
      "\n"
     ]
    }
   ],
   "source": [
    "MAX_SAMPLES = 5\n",
    "\n",
    "phecode_pairs = []\n",
    "phecode_terms = [i for j in list(all_eval_phecodes_text.values()) for i in j]\n",
    "\n",
    "\n",
    "for anchor_id in tqdm(all_eval_phecodes):\n",
    "\n",
    "    assert anchor_id in all_eval_phecodes_text\n",
    "\n",
    "\n",
    "    samples = {}\n",
    "    samples_text = {}\n",
    "    for i in range(3):\n",
    "        samples[i] = []\n",
    "        samples_text[i] = []\n",
    "    \n",
    "    \n",
    "\n",
    "    if \".\" not in anchor_id:\n",
    "        level = 3\n",
    "    else:\n",
    "        level = 3 - len(anchor_id.split(\".\")[1])\n",
    "\n",
    "    samples[level - 1] += [i for i in trees[\"phecode\"].children[anchor_id]]\n",
    "\n",
    "    if anchor_id in trees[\"phecode\"].parent:\n",
    "        parent = trees[\"phecode\"].parent[anchor_id]\n",
    "        samples[level] += [parent]\n",
    "        samples[level] += [i for i in trees[\"phecode\"].children[parent] if i != anchor_id]\n",
    "        \n",
    "        \n",
    "    samples[0] += [anchor_id]\n",
    "    assert len(samples[0]) == 1\n",
    "\n",
    "    \n",
    "    for i in range(3):\n",
    "        for j in samples[i]:\n",
    "            if j in all_eval_phecodes_text:\n",
    "                samples_text[i] += all_eval_phecodes_text[j]\n",
    "\n",
    "    \n",
    "    for i in samples_text:\n",
    "        if len(samples_text[i]) > 2*MAX_SAMPLES:\n",
    "            samples_text[i] = random.sample(samples_text[i], 2*MAX_SAMPLES)\n",
    "                \n",
    "    \n",
    "    pairs = list(itertools.combinations(samples_text[0], 2))\n",
    "    if len(pairs) > MAX_SAMPLES:\n",
    "        pairs = random.sample(pairs, MAX_SAMPLES)\n",
    "    for p in pairs:\n",
    "        line = str(0) + \"||\" + p[0] + \"||\" + p[1]\n",
    "        phecode_pairs.append(line)    \n",
    "    \n",
    "    \n",
    "    for i in range(1, 3):\n",
    "        pairs = list(itertools.product(samples_text[0], samples_text[i]))\n",
    "        if len(pairs) > MAX_SAMPLES:\n",
    "            pairs = random.sample(pairs, MAX_SAMPLES)\n",
    "        for p in pairs:\n",
    "            line = str(i) + \"||\" + p[0] + \"||\" + p[1]\n",
    "            phecode_pairs.append(line)    \n",
    "\n",
    "            \n",
    "    random_samples = random.sample(phecode_terms, 2*MAX_SAMPLES)\n",
    "    pairs = list(itertools.product(samples_text[0], random_samples))\n",
    "    if len(pairs) > MAX_SAMPLES:\n",
    "        pairs = random.sample(pairs, MAX_SAMPLES)\n",
    "    for p in pairs:\n",
    "        line = str(3) + \"||\" + p[0] + \"||\" + p[1]\n",
    "        phecode_pairs.append(line)\n",
    "        "
   ]
  },
  {
   "cell_type": "code",
   "execution_count": 42,
   "metadata": {},
   "outputs": [
    {
     "name": "stdout",
     "output_type": "stream",
     "text": [
      "4325\n"
     ]
    }
   ],
   "source": [
    "# with open('../../sapbert_hierarchical_eval/data/phecode_eval.txt', 'w', encoding=\"utf-8\") as f:\n",
    "#     for line in phecode_pairs:\n",
    "#         f.write(\"%s\\n\" % line)\n",
    "#     print(len(phecode_pairs))"
   ]
  },
  {
   "cell_type": "markdown",
   "metadata": {},
   "source": [
    "## Generate CUI-CUI eval pairs"
   ]
  },
  {
   "cell_type": "code",
   "execution_count": 106,
   "metadata": {},
   "outputs": [
    {
     "data": {
      "application/vnd.jupyter.widget-view+json": {
       "model_id": "55e679e8fa3544b499486cfaa2ce170a",
       "version_major": 2,
       "version_minor": 0
      },
      "text/plain": [
       "HBox(children=(FloatProgress(value=0.0, max=10541661.0), HTML(value='')))"
      ]
     },
     "metadata": {},
     "output_type": "display_data"
    },
    {
     "name": "stdout",
     "output_type": "stream",
     "text": [
      "\n"
     ]
    }
   ],
   "source": [
    "umls_dict = {} # constrauct cui to list of name dict, again\n",
    "for line in tqdm(cleaned_do_dup):\n",
    "    cui, name = line.split(\"||\")\n",
    "    if cui in umls_dict:\n",
    "        umls_dict[cui].append(name)\n",
    "    else:\n",
    "        umls_dict[cui] = [name]"
   ]
  },
  {
   "cell_type": "code",
   "execution_count": 107,
   "metadata": {},
   "outputs": [
    {
     "name": "stdout",
     "output_type": "stream",
     "text": [
      "200000\n"
     ]
    }
   ],
   "source": [
    "with open('./cui_cui_holdout_set.txt', 'r') as f:\n",
    "    lines = f.readlines()\n",
    "print(len(lines))"
   ]
  },
  {
   "cell_type": "code",
   "execution_count": 108,
   "metadata": {},
   "outputs": [
    {
     "data": {
      "application/vnd.jupyter.widget-view+json": {
       "model_id": "cd44e5e23ca04126a9dd957b8ce6df07",
       "version_major": 2,
       "version_minor": 0
      },
      "text/plain": [
       "HBox(children=(FloatProgress(value=0.0, max=200000.0), HTML(value='')))"
      ]
     },
     "metadata": {},
     "output_type": "display_data"
    },
    {
     "name": "stdout",
     "output_type": "stream",
     "text": [
      "\n"
     ]
    }
   ],
   "source": [
    "cui_pairs = []\n",
    "for l in tqdm(lines):\n",
    "    lst = l.rstrip(\"\\n\").split(\",\")\n",
    "    cui_pairs.append([lst[0], lst[2], lst[3]])"
   ]
  },
  {
   "cell_type": "code",
   "execution_count": 109,
   "metadata": {},
   "outputs": [
    {
     "data": {
      "application/vnd.jupyter.widget-view+json": {
       "model_id": "cbc3ef170a2946da97c289fc051f742a",
       "version_major": 2,
       "version_minor": 0
      },
      "text/plain": [
       "HBox(children=(FloatProgress(value=0.0, max=200000.0), HTML(value='')))"
      ]
     },
     "metadata": {},
     "output_type": "display_data"
    },
    {
     "name": "stdout",
     "output_type": "stream",
     "text": [
      "\n"
     ]
    },
    {
     "data": {
      "application/vnd.jupyter.widget-view+json": {
       "model_id": "e979396bfbd34d4082f4e90bd6392165",
       "version_major": 2,
       "version_minor": 0
      },
      "text/plain": [
       "HBox(children=(FloatProgress(value=0.0, max=5000.0), HTML(value='')))"
      ]
     },
     "metadata": {},
     "output_type": "display_data"
    },
    {
     "name": "stdout",
     "output_type": "stream",
     "text": [
      "\n"
     ]
    }
   ],
   "source": [
    "cui_cui_pairs = {}\n",
    "cui_set = set()\n",
    "for l in tqdm(lines):\n",
    "    lst = l.rstrip(\"\\n\").split(\",\")\n",
    "    if lst[0] in umls_dict and lst[2] in umls_dict:\n",
    "        cui_cui_pairs[lst[3]] = cui_cui_pairs.get(lst[3], []) + [(lst[0], lst[2])]\n",
    "        cui_set.add(lst[0])\n",
    "        cui_set.add(lst[2])\n",
    "\n",
    "        \n",
    "random_cuis = random.choices(list(cui_set), k=2*5000)\n",
    "cui_cui_pairs[\"random\"] = []\n",
    "for i in tqdm(range(5000)):\n",
    "    cui1, cui2 = random_cuis[2*i:2*(i + 1)]\n",
    "    if cui1 != cui2:\n",
    "        cui_cui_pairs[\"random\"].append((cui1, cui2))"
   ]
  },
  {
   "cell_type": "code",
   "execution_count": 110,
   "metadata": {},
   "outputs": [],
   "source": [
    "cui_cui_pairs[\"ALL_CAUSITIVE\"] = []\n",
    "for i in [\"cause_of\", \"causative_agent_of\", \"induces\"]:\n",
    "    cui_cui_pairs[\"ALL_CAUSITIVE\"] += cui_cui_pairs.get(i, [])\n",
    "\n",
    "cui_cui_pairs[\"ALL_MAY_CAUSE_OR_TREAT\"] = []\n",
    "for i in [\"may_treat\", \"may_prevent\"]:\n",
    "    cui_cui_pairs[\"ALL_MAY_CAUSE_OR_TREAT\"] += cui_cui_pairs.get(i, [])"
   ]
  },
  {
   "cell_type": "code",
   "execution_count": 111,
   "metadata": {},
   "outputs": [],
   "source": [
    "cui_cui_pairs_text = {}\n",
    "for i in cui_cui_pairs:\n",
    "    for cui1, cui2 in cui_cui_pairs[i]:\n",
    "        line = random.choice(umls_dict[cui1]) + \"||\" + random.choice(umls_dict[cui2]) + \"||\" + i\n",
    "        cui_cui_pairs_text[i] = cui_cui_pairs_text.get(i, []) + [line]"
   ]
  },
  {
   "cell_type": "code",
   "execution_count": 112,
   "metadata": {},
   "outputs": [
    {
     "name": "stdout",
     "output_type": "stream",
     "text": [
      "10723\n"
     ]
    },
    {
     "data": {
      "application/vnd.jupyter.widget-view+json": {
       "model_id": "0d17d79d63014b578eada753c91f6441",
       "version_major": 2,
       "version_minor": 0
      },
      "text/plain": [
       "HBox(children=(FloatProgress(value=0.0, max=10722.0), HTML(value='')))"
      ]
     },
     "metadata": {},
     "output_type": "display_data"
    },
    {
     "name": "stdout",
     "output_type": "stream",
     "text": [
      "\n"
     ]
    }
   ],
   "source": [
    "EVAL_DIR = Path(\"D:/Projects/CODER/deps\")\n",
    "with open(EVAL_DIR/\"DDX_Medscape_UMLS2021ABCUIS_vid_01APR2023.csv\", \"r\", encoding=\"utf-8\") as f:\n",
    "    lines = f.readlines()\n",
    "print(len(lines))\n",
    "\n",
    "cui_cui_pairs_text[\"DDX\"] = []\n",
    "\n",
    "for l in tqdm(lines[1:]):\n",
    "    lst = l.rstrip(\"\\n\").split(\",\")\n",
    "    line = lst[5] + \"||\" + lst[6] + \"||\" + \"DDX\"\n",
    "    cui_cui_pairs_text[\"DDX\"].append(line)\n",
    "    "
   ]
  },
  {
   "cell_type": "code",
   "execution_count": 113,
   "metadata": {},
   "outputs": [],
   "source": [
    "# common_relations = []\n",
    "# for i in cui_cui_pairs_text:\n",
    "#     if len(cui_cui_pairs_text[i]) > 1000:\n",
    "#         common_relations.append(i)\n",
    "# common_relations"
   ]
  },
  {
   "cell_type": "code",
   "execution_count": 114,
   "metadata": {},
   "outputs": [],
   "source": [
    "excluded = [\"ALL_CAUSITIVE\",\n",
    "            \"ALL_MAY_CAUSE_OR_TREAT\",\n",
    "            \"method_of\",\n",
    "            \"classifies\",\n",
    "            \"DDX\",\n",
    "            \"random\"]\n",
    "for relation in cui_cui_pairs_text:\n",
    "    if relation not in excluded and len(cui_cui_pairs_text[relation]) > 2000:\n",
    "        cui_cui_pairs_text[relation] = random.sample(cui_cui_pairs_text[relation], 2000)\n",
    "\n",
    "cui_cui_pairs_filtered = []\n",
    "\n",
    "for i in cui_cui_pairs_text.values():\n",
    "    cui_cui_pairs_filtered += i"
   ]
  },
  {
   "cell_type": "code",
   "execution_count": 115,
   "metadata": {},
   "outputs": [
    {
     "name": "stdout",
     "output_type": "stream",
     "text": [
      "110547\n"
     ]
    }
   ],
   "source": [
    "with open('../../sapbert_hierarchical_eval/data/cui_cui_eval.txt', 'w', encoding=\"utf-8\") as f:\n",
    "    for line in cui_cui_pairs_filtered:\n",
    "        f.write(\"%s\\n\" % line)\n",
    "    print(len(cui_cui_pairs_filtered))"
   ]
  },
  {
   "cell_type": "code",
   "execution_count": 105,
   "metadata": {
    "scrolled": true
   },
   "outputs": [
    {
     "name": "stdout",
     "output_type": "stream",
     "text": [
      "('random', 5000)\n",
      "('', 2000)\n",
      "('classified_as', 2000)\n",
      "('translation_of', 2000)\n",
      "('isa', 2000)\n",
      "('inverse_isa', 2000)\n",
      "('mapped_from', 2000)\n",
      "('has_member', 2000)\n",
      "('member_of', 2000)\n",
      "('has_translation', 2000)\n",
      "('expanded_form_of', 2000)\n",
      "('mapped_to', 2000)\n",
      "('has_inactive_ingredient', 2000)\n",
      "('inactive_ingredient_of', 2000)\n",
      "('classifies', 2000)\n",
      "('has_expanded_form', 2000)\n",
      "('DDX', 2000)\n",
      "('active_ingredient_of', 1720)\n",
      "('has_active_ingredient', 1713)\n",
      "('has_active_moiety', 1493)\n",
      "('active_moiety_of', 1453)\n",
      "('component_of', 1451)\n",
      "('ingredient_of', 1408)\n",
      "('has_ingredient', 1402)\n",
      "('has_component', 1393)\n",
      "('finding_site_of', 1350)\n",
      "('has_finding_site', 1268)\n",
      "('concept_in_subset', 1260)\n",
      "('subset_includes_concept', 1239)\n",
      "('class_of', 1156)\n",
      "('has_class', 1110)\n",
      "('has_method', 972)\n",
      "('method_of', 900)\n",
      "('same_as', 831)\n",
      "('associated_morphology_of', 804)\n",
      "('has_associated_morphology', 719)\n",
      "('has_system', 697)\n",
      "('system_of', 686)\n",
      "('dose_form_of', 676)\n",
      "('has_dose_form', 675)\n",
      "('associated_with', 624)\n",
      "('permuted_term_of', 544)\n",
      "('laterality_of', 543)\n",
      "('has_permuted_term', 529)\n",
      "('has_laterality', 520)\n",
      "('has_tradename', 511)\n",
      "('mth_has_expanded_form', 505)\n",
      "('manifestation_of', 504)\n",
      "('mth_expanded_form_of', 481)\n",
      "('has_manifestation', 461)\n",
      "('tradename_of', 458)\n",
      "('has_scale', 442)\n",
      "('has_property', 441)\n",
      "('consists_of', 436)\n",
      "('has_time_aspect', 434)\n",
      "('property_of', 433)\n",
      "('constitutes', 424)\n",
      "('possibly_equivalent_to', 420)\n",
      "('scale_of', 416)\n",
      "('common_name_of', 407)\n",
      "('time_aspect_of', 407)\n",
      "('answer_to', 396)\n",
      "('direct_procedure_site_of', 390)\n",
      "('measured_by', 384)\n",
      "('is_interpreted_by', 381)\n",
      "('has_answer', 378)\n",
      "('measures', 376)\n",
      "('has_direct_procedure_site', 369)\n",
      "('has_common_name', 356)\n",
      "('alias_of', 345)\n",
      "('interprets', 345)\n",
      "('analyzes', 337)\n",
      "('has_alias', 316)\n",
      "('has_default_outpatient_classification', 313)\n",
      "('default_inpatient_classification_of', 310)\n",
      "('analyzed_by', 309)\n",
      "('ALL_CAUSITIVE', 299)\n",
      "('has_default_inpatient_classification', 297)\n",
      "('default_outpatient_classification_of', 288)\n",
      "('part_of', 244)\n",
      "('has_part', 235)\n",
      "('disease_has_abnormal_cell', 230)\n",
      "('is_abnormal_cell_of_disease', 223)\n",
      "('pathological_process_of', 208)\n",
      "('has_pathological_process', 204)\n",
      "('disease_has_finding', 190)\n",
      "('loinc_number_of', 186)\n",
      "('is_finding_of_disease', 179)\n",
      "('has_causative_agent', 178)\n",
      "('process_involves_gene', 178)\n",
      "('is_associated_anatomic_site_of', 177)\n",
      "('has_mapping_qualifier', 173)\n",
      "('has_loinc_number', 170)\n",
      "('causative_agent_of', 159)\n",
      "('mapping_qualifier_of', 158)\n",
      "('gene_plays_role_in_process', 156)\n",
      "('occurs_in', 155)\n",
      "('do_not_code_with', 155)\n",
      "('has_occurrence', 153)\n",
      "('allelic_variant_of', 153)\n",
      "('has_doseformgroup', 152)\n",
      "('disease_has_associated_anatomic_site', 149)\n",
      "('doseformgroup_of', 149)\n",
      "('has_phenotype', 147)\n",
      "('prev_name_of', 146)\n",
      "('due_to', 140)\n",
      "('has_finding_method', 140)\n",
      "('interpretation_of', 140)\n",
      "('cause_of', 140)\n",
      "('clinically_associated_with', 139)\n",
      "('location_of', 138)\n",
      "('has_interpretation', 138)\n",
      "('has_regional_part', 136)\n",
      "('has_location', 136)\n",
      "('phenotype_of', 134)\n",
      "('finding_method_of', 134)\n",
      "('clinician_form_of', 133)\n",
      "('procedure_site_of', 132)\n",
      "('is_not_finding_of_disease', 131)\n",
      "('has_print_name', 128)\n",
      "('has_allelic_variant', 126)\n",
      "('has_prev_name', 123)\n",
      "('disease_has_primary_anatomic_site', 122)\n",
      "('print_name_of', 121)\n",
      "('disease_excludes_finding', 120)\n",
      "('has_procedure_site', 117)\n",
      "('regional_part_of', 115)\n",
      "('has_transliterated_form', 113)\n",
      "('gene_product_plays_role_in_biological_process', 111)\n",
      "('is_primary_anatomic_site_of_disease', 111)\n",
      "('disease_has_normal_tissue_origin', 110)\n",
      "('transliterated_form_of', 110)\n",
      "('has_clinician_form', 107)\n",
      "('moved_to', 104)\n",
      "('has_specialty', 101)\n",
      "('has_constitutional_part', 101)\n",
      "('has_suffix', 100)\n",
      "('has_supersystem', 100)\n",
      "('suffix_of', 99)\n",
      "('is_not_abnormal_cell_of_disease', 99)\n",
      "('specialty_of', 98)\n",
      "('indirect_procedure_site_of', 98)\n",
      "('moved_from', 94)\n",
      "('biological_process_involves_gene_product', 93)\n",
      "('has_challenge', 91)\n",
      "('has_entry_version', 90)\n",
      "('was_a', 88)\n",
      "('disposition_of', 87)\n",
      "('has_direct_morphology', 87)\n",
      "('constitutional_part_of', 87)\n",
      "('parent_of', 86)\n",
      "('specimen_of', 86)\n",
      "('direct_morphology_of', 85)\n",
      "('disease_excludes_abnormal_cell', 85)\n",
      "('challenge_of', 85)\n",
      "('is_normal_cell_origin_of_disease', 83)\n",
      "('supersystem_of', 83)\n",
      "('is_normal_tissue_origin_of_disease', 82)\n",
      "('disease_has_normal_cell_origin', 81)\n",
      "('gene_product_encoded_by_gene', 81)\n",
      "('has_indirect_procedure_site', 81)\n",
      "('has_branch', 79)\n",
      "('primary_mapped_from', 78)\n",
      "('has_parent', 78)\n",
      "('gene_encodes_gene_product', 76)\n",
      "('co-occurs_with', 76)\n",
      "('ALL_MAY_CAUSE_OR_TREAT', 76)\n",
      "('focus_of', 74)\n",
      "('has_prev_symbol', 73)\n",
      "('gene_is_element_in_pathway', 73)\n",
      "('precise_active_ingredient_of', 72)\n",
      "('has_entire_anatomy_structure', 72)\n",
      "('has_disposition', 71)\n",
      "('primary_mapped_to', 71)\n",
      "('prev_symbol_of', 71)\n",
      "('branch_of', 70)\n",
      "('inverse_was_a', 70)\n",
      "('has_precise_active_ingredient', 70)\n",
      "('has_focus', 69)\n",
      "('plays_role', 69)\n",
      "('basis_of_strength_substance_of', 69)\n",
      "('entry_version_of', 69)\n",
      "('disease_may_have_finding', 68)\n",
      "('replaced_by', 68)\n",
      "('has_specimen', 67)\n",
      "('replaces', 67)\n",
      "('may_treat', 67)\n",
      "('entire_anatomy_structure_of', 66)\n",
      "('may_be_finding_of_disease', 64)\n",
      "('has_basis_of_strength_substance', 64)\n",
      "('has_count_of_base_of_active_ingredient', 64)\n",
      "('has_gene_product_element', 64)\n",
      "('ingredients_of', 63)\n",
      "('evaluation_of', 60)\n",
      "('role_played_by', 59)\n",
      "('used_for', 59)\n",
      "('has_subject_relationship_context', 59)\n",
      "('pathway_has_gene_element', 58)\n",
      "('disease_may_have_cytogenetic_abnormality', 58)\n",
      "('uses_substance', 56)\n",
      "('chemotherapy_regimen_has_component', 56)\n",
      "('may_be_molecular_abnormality_of_disease', 55)\n",
      "('uses_device', 55)\n",
      "('use', 55)\n",
      "('has_evaluation', 55)\n",
      "('is_component_of_chemotherapy_regimen', 55)\n",
      "('direct_substance_of', 54)\n",
      "('has_physiologic_effect', 53)\n",
      "('has_direct_substance', 53)\n",
      "('has_consumer_friendly_form', 53)\n",
      "('gene_product_is_element_in_pathway', 53)\n",
      "('has_ingredients', 52)\n",
      "('may_be_treated_by', 52)\n",
      "('has_clinical_course', 52)\n",
      "('substance_used_by', 52)\n",
      "('has_precise_ingredient', 51)\n",
      "('temporal_context_of', 51)\n",
      "('count_of_base_of_active_ingredient_of', 51)\n",
      "('has_contraindicated_drug', 51)\n",
      "('has_temporal_context', 50)\n",
      "('has_presentation_strength_numerator_unit', 49)\n",
      "('has_presentation_strength_denominator_unit', 48)\n",
      "('mth_plain_text_form_of', 48)\n",
      "('disease_may_have_molecular_abnormality', 48)\n",
      "('contraindicated_with_disease', 47)\n",
      "('device_used_by', 46)\n",
      "('physiologic_effect_of', 46)\n",
      "('consumer_friendly_form_of', 46)\n",
      "('intent_of', 45)\n",
      "('has_intent', 45)\n",
      "('clinical_course_of', 44)\n",
      "('may_be_cytogenetic_abnormality_of_disease', 44)\n",
      "('anatomic_structure_is_physical_part_of', 43)\n",
      "('has_physical_part_of_anatomic_structure', 43)\n",
      "('mth_has_plain_text_form', 43)\n",
      "('precise_ingredient_of', 42)\n",
      "('direct_device_of', 41)\n",
      "('mechanism_of_action_of', 40)\n",
      "('subject_relationship_context_of', 40)\n",
      "('has_unit_of_presentation', 39)\n",
      "('presentation_strength_denominator_unit_of', 37)\n",
      "('has_direct_device', 36)\n",
      "('regulates', 35)\n",
      "('unit_of_presentation_of', 34)\n",
      "('mth_xml_form_of', 32)\n",
      "('regulated_by', 31)\n",
      "('presentation_strength_numerator_unit_of', 31)\n",
      "('has_parent_group', 31)\n",
      "('has_imaged_location', 31)\n",
      "('add_on_code_for', 30)\n",
      "('has_quantified_form', 30)\n",
      "('clinically_similar', 30)\n",
      "('gene_product_has_structural_domain_or_motif', 30)\n",
      "('is_imaged_location_for', 29)\n",
      "('concentration_strength_denominator_unit_of', 28)\n",
      "('positively_regulates', 28)\n",
      "('parent_group_of', 28)\n",
      "('has_presentation_strength_numerator_value', 28)\n",
      "('has_associated_finding', 28)\n",
      "('disease_excludes_normal_cell_origin', 28)\n",
      "('has_add_on_code', 27)\n",
      "('concentration_strength_numerator_unit_of', 27)\n",
      "('is_stage_of_disease', 27)\n",
      "('mth_has_xml_form', 27)\n",
      "('positively_regulated_by', 27)\n",
      "('has_divisor', 26)\n",
      "('contains', 26)\n",
      "('contained_in', 26)\n",
      "('included_in', 26)\n",
      "('inheritance_type_of', 25)\n",
      "('is_structural_domain_or_motif_of_gene_product', 25)\n",
      "('negatively_regulates', 25)\n",
      "('has_mechanism_of_action', 25)\n",
      "('has_imaging_focus', 25)\n",
      "('other_mapped_from', 25)\n",
      "('occurs_after', 25)\n",
      "('mth_british_form_of', 25)\n",
      "('is_modification_of', 25)\n",
      "('gene_product_has_associated_anatomy', 24)\n",
      "('disease_mapped_to_gene', 24)\n",
      "('ctcae_5_parent_of', 24)\n",
      "('occurs_before', 24)\n",
      "('has_aggregation_view', 24)\n",
      "('is_associated_anatomy_of_gene_product', 24)\n",
      "('gene_product_has_biochemical_function', 24)\n",
      "('therapeutic_class_of', 24)\n",
      "('gene_mapped_to_disease', 23)\n",
      "('is_modality_type_for', 23)\n",
      "('disease_is_stage', 23)\n",
      "('has_lateral_anatomic_location', 23)\n",
      "('other_mapped_to', 23)\n",
      "('presentation_strength_numerator_value_of', 23)\n",
      "('is_imaging_focus_of', 23)\n",
      "('finding_context_of', 23)\n",
      "('has_concentration_strength_numerator_unit', 23)\n",
      "('quantified_form_of', 23)\n",
      "('tributary_of', 23)\n",
      "('procedure_context_of', 22)\n",
      "('has_procedure_context', 22)\n",
      "('has_presentation_strength_denominator_value', 22)\n",
      "('negatively_regulated_by', 22)\n",
      "('is_aggregation_view_of', 22)\n",
      "('divisor_of', 22)\n",
      "('related_to', 22)\n",
      "('has_inheritance_type', 21)\n",
      "('eo_disease_has_associated_eo_anatomy', 21)\n",
      "('has_associated_procedure', 21)\n",
      "('includes', 20)\n",
      "('is_biochemical_function_of_gene_product', 20)\n",
      "('is_not_primary_anatomic_site_of_disease', 20)\n",
      "('sort_version_of', 20)\n",
      "('conceptual_part_of', 20)\n",
      "('eo_anatomy_is_associated_with_eo_disease', 20)\n",
      "('disease_excludes_primary_anatomic_site', 20)\n",
      "('structural_class_of', 20)\n",
      "('associated_finding_of', 19)\n",
      "('has_ctcae_5_parent', 19)\n",
      "('uses_access_device', 19)\n",
      "('has_modality_type', 19)\n",
      "('has_therapeutic_class', 19)\n",
      "('gene_found_in_organism', 19)\n",
      "('is_physiologic_effect_of_chemical_or_drug', 19)\n",
      "('lab_number_of', 18)\n",
      "('associated_procedure_of', 18)\n",
      "('gene_in_chromosomal_location', 18)\n",
      "('has_modification', 18)\n",
      "('is_not_normal_cell_origin_of_disease', 18)\n",
      "('has_concentration_strength_denominator_unit', 18)\n",
      "('see_from', 18)\n",
      "('organism_has_gene', 17)\n",
      "('has_access', 17)\n",
      "('is_lateral_anatomic_location_of', 17)\n",
      "('related_to_genetic_biomarker', 17)\n",
      "('life_circumstance_of', 16)\n",
      "('is_chromosomal_location_of_gene', 16)\n",
      "('concentration_strength_numerator_value_of', 16)\n",
      "('mth_has_british_form', 16)\n",
      "('has_form', 16)\n",
      "('has_structural_class', 16)\n",
      "('form_of', 15)\n",
      "('has_lab_number', 15)\n",
      "('has_conceptual_part', 15)\n",
      "('genetic_biomarker_related_to', 15)\n",
      "('has_specimen_source_topography', 15)\n",
      "('has_sort_version', 15)\n",
      "('specimen_procedure_of', 15)\n",
      "('disease_may_have_associated_disease', 15)\n",
      "('see', 14)\n",
      "('gene_involved_in_molecular_abnormality', 14)\n",
      "('has_pharmaceutical_route', 14)\n",
      "('specimen_source_topography_of', 14)\n",
      "('is_presence_of_lateral_location', 14)\n",
      "('has_revision_status', 14)\n",
      "('realization_of', 14)\n",
      "('presentation_strength_denominator_value_of', 14)\n",
      "('has_lateral_location_presence', 13)\n",
      "('molecular_abnormality_involves_gene', 13)\n",
      "('consider', 13)\n",
      "('has_concentration_strength_numerator_value', 13)\n",
      "('has_measurement_method', 13)\n",
      "('continuous_with', 13)\n",
      "('has_tributary', 13)\n",
      "('has_pathology', 13)\n",
      "('archetype_of', 12)\n",
      "('is_timing_for', 12)\n",
      "('disease_excludes_normal_tissue_origin', 12)\n",
      "('access_device_used_by', 12)\n",
      "('nerve_supply_of', 12)\n",
      "('is_mechanism_of_action_of_chemical_or_drug', 12)\n",
      "('procedure_device_of', 12)\n",
      "('concentration_strength_denominator_value_of', 12)\n",
      "('pathology_of', 11)\n",
      "('may_be_prevented_by', 11)\n",
      "('has_life_circumstance', 11)\n",
      "('disease_has_associated_gene', 11)\n",
      "('has_procedure_device', 11)\n",
      "('measurement_method_of', 10)\n",
      "('gene_product_sequence_variation_encoded_by_gene_mutant', 10)\n",
      "('chemical_or_drug_has_physiologic_effect', 10)\n",
      "('access_of', 10)\n",
      "('chemical_or_drug_has_mechanism_of_action', 10)\n",
      "('related_part', 10)\n",
      "('has_finding_context', 10)\n",
      "('surgical_approach_of', 10)\n",
      "('specimen_substance_of', 10)\n",
      "('referred_to_by', 10)\n",
      "('gene_product_has_chemical_classification', 9)\n",
      "('is_not_normal_tissue_origin_of_disease', 9)\n",
      "('gene_product_variant_of_gene_product', 9)\n",
      "('gene_associated_with_disease', 9)\n",
      "('gene_mutant_encodes_gene_product_sequence_variation', 9)\n",
      "('is_associated_disease_of', 9)\n",
      "('refers_to', 9)\n",
      "('revision_status_of', 9)\n",
      "('has_contraindicated_class', 9)\n",
      "('disease_has_molecular_abnormality', 9)\n",
      "('has_associated_condition', 9)\n",
      "('may_prevent', 9)\n",
      "('has_surgical_approach', 8)\n",
      "('has_realization', 8)\n",
      "('has_product_monograph_title', 8)\n",
      "('is_target', 8)\n",
      "('is_view_type_for', 8)\n",
      "('has_specimen_substance', 8)\n",
      "('has_nerve_supply', 8)\n",
      "('exhibited_by', 8)\n",
      "('ssc', 8)\n",
      "('has_free_acid_or_base_form', 8)\n",
      "('eo_disease_maps_to_human_disease', 7)\n",
      "('defining_characteristic_of', 7)\n",
      "('may_be_abnormal_cell_of_disease', 7)\n",
      "('has_concentration_strength_denominator_value', 7)\n",
      "('disease_has_associated_disease', 7)\n",
      "('consider_from', 7)\n",
      "('tissue_is_expression_site_of_gene_product', 7)\n",
      "('human_disease_maps_to_eo_disease', 7)\n",
      "('has_salt_form', 7)\n",
      "('scale_type_of', 7)\n",
      "('has_defining_characteristic', 7)\n",
      "('is_molecular_abnormality_of_disease', 7)\n",
      "('procedure_morphology_of', 7)\n",
      "('has_target', 7)\n",
      "('associated_condition_of', 7)\n",
      "('gene_product_has_organism_source', 7)\n",
      "('procedure_site_of_possibly_included', 6)\n",
      "('is_pharmaceutical_route_for', 6)\n",
      "('has_indirect_morphology', 6)\n",
      "('is_given_pharmaceutical_substance_for', 6)\n",
      "('has_approach', 6)\n",
      "('has_inherent_attribute', 6)\n",
      "('noun_form_of', 6)\n",
      "('is_physical_location_of_gene', 6)\n",
      "('default_mapped_from', 6)\n",
      "('contraindicated_class_of', 6)\n",
      "('is_chemical_classification_of_gene_product', 6)\n",
      "('continuous_distally_with', 6)\n",
      "('is_not_cytogenetic_abnormality_of_disease', 6)\n",
      "('has_possibly_included_procedure_site', 6)\n",
      "('characterized_by', 6)\n",
      "('has_archetype', 6)\n",
      "('has_presence_guidance', 5)\n",
      "('uniquely_mapped_from', 5)\n",
      "('has_view_type', 5)\n",
      "('has_procedure_morphology', 5)\n",
      "('diagnostic_criteria_of', 5)\n",
      "('energy_used_by', 5)\n",
      "('modified_by', 5)\n",
      "('is_grade_of_disease', 5)\n",
      "('has_device_intended_site', 5)\n",
      "('chemical_or_drug_is_metabolized_by_enzyme', 5)\n",
      "('cytogenetic_abnormality_involves_chromosome', 5)\n",
      "('dose_form_administration_method_of', 5)\n",
      "('has_specimen_procedure', 5)\n",
      "('inheres_in', 5)\n",
      "('continuous_proximally_with', 5)\n",
      "('has_entry_combination', 5)\n",
      "('is_organism_source_of_gene_product', 5)\n",
      "('has_diagnostic_criteria', 5)\n",
      "('lymphatic_drainage_of', 5)\n",
      "('actual_outcome_of', 5)\n",
      "('is_modality_subtype_for', 5)\n",
      "('has_surgical_extent', 5)\n",
      "('has_modality_subtype', 5)\n",
      "('is_action_guidance_for', 5)\n",
      "('articulates_with', 5)\n",
      "('gene_product_expressed_in_tissue', 5)\n",
      "('default_mapped_to', 5)\n",
      "('gene_product_is_physical_part_of', 5)\n",
      "('has_scale_type', 5)\n",
      "('pathogenesis_of_disease_involves_gene', 5)\n",
      "('product_monograph_title_of', 5)\n",
      "('process_output_of', 4)\n",
      "('may_be_associated_disease_of_disease', 4)\n",
      "('device_characteristic_of', 4)\n",
      "('pharmaceutical_administration_method_of', 4)\n",
      "('disease_may_have_abnormal_cell', 4)\n",
      "('has_pharmaceutical_basic_dose_form', 4)\n",
      "('supported_concept_relationship_in', 4)\n",
      "('has_pcdc_aml_permissible_value', 4)\n",
      "('uses_energy', 4)\n",
      "('bounded_by', 4)\n",
      "('has_dose_form_intended_site', 4)\n",
      "('inferior_to', 4)\n",
      "('bounds', 4)\n",
      "('is_presence_guidance_for', 4)\n",
      "('dose_form_intended_site_of', 4)\n",
      "('has_pcdc_data_type', 4)\n",
      "('characterizes', 4)\n",
      "('modifies', 4)\n",
      "('disease_excludes_cytogenetic_abnormality', 4)\n",
      "('related_factor_of', 4)\n",
      "('uniquely_mapped_to', 4)\n",
      "('exhibits', 4)\n",
      "('has_at_risk_population', 4)\n",
      "('indirect_morphology_of', 4)\n",
      "('has_actual_outcome', 4)\n",
      "('procedure_has_target_anatomy', 4)\n",
      "('disease_is_grade', 4)\n",
      "('sends_output_to', 4)\n",
      "('has_timing_of', 4)\n",
      "('has_process_duration', 4)\n",
      "('gene_has_physical_location', 4)\n",
      "('has_priority', 4)\n",
      "('has_excluded_procedure_site', 3)\n",
      "('adjectival_form_of', 3)\n",
      "('priority_of', 3)\n",
      "('developmental_stage_of', 3)\n",
      "('is_approach_guidance_for', 3)\n",
      "('direct_left_of', 3)\n",
      "('has_action_guidance', 3)\n",
      "('has_possibly_included_method', 3)\n",
      "('direct_right_of', 3)\n",
      "('method_of_possibly_included', 3)\n",
      "('efferent_to', 3)\n",
      "('approach_of', 3)\n",
      "('supported_concept_property_in', 3)\n",
      "('associated_genetic_condition', 3)\n",
      "('origin_of', 3)\n",
      "('risk_factor_of', 3)\n",
      "('surgical_extent_of', 3)\n",
      "('pharmaceutical_basic_dose_form_of', 3)\n",
      "('has_compositional_material', 3)\n",
      "('is_exam_for', 3)\n",
      "('value_set_is_paired_with', 3)\n",
      "('is_pcdc_aml_permissible_value_for_variable', 3)\n",
      "('has_device_characteristic', 3)\n",
      "('pharmaceutical_transformation_of', 3)\n",
      "('is_maneuver_type_for', 3)\n",
      "('chemical_or_drug_affects_gene_product', 3)\n",
      "('afferent_to', 3)\n",
      "('has_single_level_category', 3)\n",
      "('has_multi_level_category', 3)\n",
      "('finding_informer_of', 3)\n",
      "('has_segmental_supply', 3)\n",
      "('associated_with_malfunction_of_gene_product', 3)\n",
      "('has_object_guidance', 3)\n",
      "('receives_input_from', 3)\n",
      "('is_location_of_biological_process', 3)\n",
      "('dose_form_transformation_of', 3)\n",
      "('has_route_of_administration', 3)\n",
      "('compositional_material_of', 3)\n",
      "('technique_of', 3)\n",
      "('has_absorbability', 3)\n",
      "('has_excluded_method', 3)\n",
      "('has_dose_form_release_characteristic', 3)\n",
      "('disease_has_metastatic_anatomic_site', 2)\n",
      "('is_sterile', 2)\n",
      "('partially_excised_anatomy_has_procedure', 2)\n",
      "('associated_observation_of', 2)\n",
      "('device_intended_site_of', 2)\n",
      "('has_approach_guidance', 2)\n",
      "('has_inc_parent', 2)\n",
      "('has_pharmacokinetics', 2)\n",
      "('has_version', 2)\n",
      "('target_anatomy_has_procedure', 2)\n",
      "('biomarker_type_includes_gene_product', 2)\n",
      "('during', 2)\n",
      "('disease_has_cytogenetic_abnormality', 2)\n",
      "('is_not_molecular_abnormality_of_disease', 2)\n",
      "('has_locale', 2)\n",
      "('procedure_device_of_possibly_included', 2)\n",
      "('has_finding_informer', 2)\n",
      "('multiply_mapped_to', 2)\n",
      "('temporally_related_to', 2)\n",
      "('has_basic_dose_form', 2)\n",
      "('part_anatomy_structure_of', 2)\n",
      "('cell_type_or_tissue_affected_by_chemical_or_drug', 2)\n",
      "('method_of_excluded', 2)\n",
      "('has_pharmaceutical_state_of_matter', 2)\n",
      "('has_associated_observation', 2)\n",
      "('disease_may_have_normal_cell_origin', 2)\n",
      "('has_given_pharmaceutical_substance', 2)\n",
      "('inverse_during', 2)\n",
      "('pharmaceutical_state_of_matter_of', 2)\n",
      "('has_supported_concept_property', 2)\n",
      "('biological_process_has_associated_location', 2)\n",
      "('is_location_of_anatomic_structure', 2)\n",
      "('arterial_supply_of', 2)\n",
      "('has_lymphatic_drainage', 2)\n",
      "('has_arterial_supply', 2)\n",
      "('is_object_guidance_for', 2)\n",
      "('has_recipient_category', 2)\n",
      "('has_direct_site', 2)\n",
      "('has_supported_concept_relationship', 2)\n",
      "('basic_dose_form_of', 2)\n",
      "('enzyme_metabolizes_chemical_or_drug', 2)\n",
      "('procedure_has_excised_anatomy', 2)\n",
      "('has_related_factor', 2)\n",
      "('has_possibly_included_procedure_device', 2)\n",
      "('has_risk_factor', 2)\n",
      "('has_pharmaceutical_release_characteristics', 2)\n",
      "('gene_product_is_biomarker_type', 2)\n",
      "('disease_excludes_molecular_abnormality', 2)\n",
      "('contraindicated_mechanism_of_action_of', 2)\n",
      "('gene_involved_in_pathogenesis_of_disease', 2)\n",
      "('route_of_administration_of', 2)\n",
      "('chemical_or_drug_affects_cell_type_or_tissue', 2)\n",
      "('process_includes_biological_process', 2)\n",
      "('superior_to', 2)\n",
      "('process_initiates_biological_process', 2)\n",
      "('gene_product_affected_by_chemical_or_drug', 2)\n",
      "('special_category_includes_neoplasm', 2)\n",
      "('regimen_has_accepted_use_for_disease', 2)\n",
      "('recipient_category_of', 2)\n",
      "('process_duration_of', 2)\n",
      "('has_indirect_device', 2)\n",
      "('excised_anatomy_has_procedure', 2)\n",
      "('may_be_normal_cell_origin_of_disease', 2)\n",
      "('has_technique', 2)\n",
      "('icd_dagger', 2)\n",
      "('has_process_output', 2)\n",
      "('has_dose_form_administration_method', 2)\n",
      "('associated_disease', 2)\n",
      "('is_subject_of', 2)\n",
      "('is_cytogenetic_abnormality_of_disease', 2)\n",
      "('kind_is_range_of', 2)\n",
      "('has_sign_or_symptom', 2)\n",
      "('pharmaceutical_release_characteristics_of', 2)\n",
      "('has_expected_outcome', 2)\n",
      "('physiologic_state_of', 2)\n",
      "('has_dose_form_transformation', 2)\n",
      "('has_exam', 2)\n",
      "('expected_outcome_of', 2)\n",
      "('icd_asterisk', 2)\n",
      "('chromosome_involved_in_cytogenetic_abnormality', 2)\n",
      "('reformulated_to', 1)\n",
      "('entry_combination_of', 1)\n",
      "('has_inherent_location', 1)\n",
      "('receives_drainage_from', 1)\n",
      "('has_british_form', 1)\n",
      "('has_contraindicated_mechanism_of_action', 1)\n",
      "('has_time_modifier', 1)\n",
      "('classifies_class_code', 1)\n",
      "('medial_to', 1)\n",
      "('attaches_to', 1)\n",
      "('manufactures', 1)\n",
      "('has_part_anatomy_structure', 1)\n",
      "('has_origin', 1)\n",
      "('has_adjustment', 1)\n",
      "('indirect_device_of', 1)\n",
      "('biological_process_results_from_biological_process', 1)\n",
      "('has_contraindicated_physiologic_effect', 1)\n",
      "('has_insertion', 1)\n",
      "('disease_has_accepted_treatment_with_regimen', 1)\n",
      "('has_secondary_segmental_supply', 1)\n",
      "('chemical_or_drug_initiates_biological_process', 1)\n",
      "('has_pharmaceutical_intended_site', 1)\n",
      "('biological_process_has_result_anatomy', 1)\n",
      "('patient_type_of', 1)\n",
      "('secondary_segmental_supply_of', 1)\n",
      "('completely_excised_anatomy_has_procedure', 1)\n",
      "('segmental_supply_of', 1)\n",
      "('inc_parent_of', 1)\n",
      "('allele_in_chromosomal_location', 1)\n",
      "('biological_process_is_part_of_process', 1)\n",
      "('allele_plays_altered_role_in_process', 1)\n",
      "('has_physiologic_state', 1)\n",
      "('count_of', 1)\n",
      "('chromosomal_location_of_allele', 1)\n",
      "('has_pharmaceutical_administration_method', 1)\n",
      "('anatomy_originated_from_biological_process', 1)\n",
      "('biological_process_has_initiator_process', 1)\n",
      "('proximal_to', 1)\n",
      "('has_primary_segmental_supply', 1)\n",
      "('complex_has_physical_part', 1)\n",
      "('receives_attachment_from', 1)\n",
      "('drains_into', 1)\n",
      "('projects_from', 1)\n",
      "('transforms_into', 1)\n",
      "('abnormality_associated_with_allele', 1)\n",
      "('dose_form_release_characteristic_of', 1)\n",
      "('gene_has_abnormality', 1)\n",
      "('allele_has_abnormality', 1)\n",
      "('has_pcdc_ews_permissible_value', 1)\n",
      "('may_be_diagnosed_by', 1)\n",
      "('surrounds', 1)\n",
      "('population_at_risk_for', 1)\n",
      "('receives_projection', 1)\n",
      "('derives_from', 1)\n",
      "('has_state_of_matter', 1)\n",
      "('inherent_location_of', 1)\n",
      "('has_maneuver_type', 1)\n",
      "('associated_procedure_of_excluded', 1)\n",
      "('insertion_of', 1)\n",
      "('substance_used_by_possibly_included', 1)\n",
      "('chromosome_mapped_to_disease', 1)\n",
      "('superomedial_to', 1)\n",
      "('eo_disease_has_property_or_attribute', 1)\n",
      "('is_metastatic_anatomic_site_of_disease', 1)\n",
      "('contraindicated_physiologic_effect_of', 1)\n",
      "('role_has_range', 1)\n",
      "('multiply_mapped_from', 1)\n",
      "('pharmaceutical_intended_site_of', 1)\n",
      "('biological_process_has_result_biological_process', 1)\n",
      "('has_pcdc_gct_permissible_value', 1)\n",
      "('severity_of', 1)\n",
      "('gene_product_malfunction_associated_with_disease', 1)\n",
      "('result_of', 1)\n",
      "('gene_product_has_gene_product_variant', 1)\n",
      "('is_paired_with_value_set', 1)\n",
      "('derives', 1)\n",
      "('extended_to_by_process', 1)\n",
      "('projects_to', 1)\n",
      "('locale_of', 1)\n",
      "('manufactured_by', 1)\n",
      "('has_icdc_value', 1)\n",
      "('absorbability_of', 1)\n"
     ]
    }
   ],
   "source": [
    "x = sorted([(i, len(cui_cui_pairs_text[i])) for i in cui_cui_pairs_text], key = lambda x: x[1], reverse=True)\n",
    "\n",
    "for i in x:\n",
    "#     print(\"'\" + i[0] + \"',\")\n",
    "    print(i)"
   ]
  },
  {
   "cell_type": "code",
   "execution_count": null,
   "metadata": {},
   "outputs": [],
   "source": []
  },
  {
   "cell_type": "code",
   "execution_count": null,
   "metadata": {},
   "outputs": [],
   "source": []
  },
  {
   "cell_type": "code",
   "execution_count": null,
   "metadata": {},
   "outputs": [],
   "source": []
  },
  {
   "cell_type": "code",
   "execution_count": null,
   "metadata": {},
   "outputs": [],
   "source": []
  },
  {
   "cell_type": "code",
   "execution_count": 53,
   "metadata": {},
   "outputs": [],
   "source": [
    "def x():\n",
    "    for i in range(4):\n",
    "        yield(i)"
   ]
  },
  {
   "cell_type": "code",
   "execution_count": 74,
   "metadata": {},
   "outputs": [],
   "source": [
    "a = iter(x())"
   ]
  },
  {
   "cell_type": "code",
   "execution_count": 72,
   "metadata": {},
   "outputs": [],
   "source": [
    "next(a, None)"
   ]
  },
  {
   "cell_type": "code",
   "execution_count": 75,
   "metadata": {},
   "outputs": [
    {
     "ename": "TypeError",
     "evalue": "object of type 'generator' has no len()",
     "output_type": "error",
     "traceback": [
      "\u001b[1;31m---------------------------------------------------------------------------\u001b[0m",
      "\u001b[1;31mTypeError\u001b[0m                                 Traceback (most recent call last)",
      "\u001b[1;32m<ipython-input-75-1a2e6ec5f1e3>\u001b[0m in \u001b[0;36m<module>\u001b[1;34m\u001b[0m\n\u001b[1;32m----> 1\u001b[1;33m \u001b[0mlen\u001b[0m\u001b[1;33m(\u001b[0m\u001b[0ma\u001b[0m\u001b[1;33m)\u001b[0m\u001b[1;33m\u001b[0m\u001b[1;33m\u001b[0m\u001b[0m\n\u001b[0m",
      "\u001b[1;31mTypeError\u001b[0m: object of type 'generator' has no len()"
     ]
    }
   ],
   "source": [
    "len(a)"
   ]
  },
  {
   "cell_type": "code",
   "execution_count": null,
   "metadata": {},
   "outputs": [],
   "source": []
  }
 ],
 "metadata": {
  "kernelspec": {
   "display_name": "Python 3",
   "language": "python",
   "name": "python3"
  },
  "language_info": {
   "codemirror_mode": {
    "name": "ipython",
    "version": 3
   },
   "file_extension": ".py",
   "mimetype": "text/x-python",
   "name": "python",
   "nbconvert_exporter": "python",
   "pygments_lexer": "ipython3",
   "version": "3.7.6"
  },
  "toc": {
   "base_numbering": 1,
   "nav_menu": {},
   "number_sections": true,
   "sideBar": true,
   "skip_h1_title": false,
   "title_cell": "Table of Contents",
   "title_sidebar": "Contents",
   "toc_cell": false,
   "toc_position": {
    "height": "calc(100% - 180px)",
    "left": "10px",
    "top": "150px",
    "width": "277.1875px"
   },
   "toc_section_display": true,
   "toc_window_display": true
  }
 },
 "nbformat": 4,
 "nbformat_minor": 4
}
